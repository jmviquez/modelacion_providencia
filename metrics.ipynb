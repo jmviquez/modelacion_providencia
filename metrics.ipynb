{
 "cells": [
  {
   "cell_type": "code",
   "execution_count": null,
   "metadata": {},
   "outputs": [],
   "source": [
    "import numpy as np\n",
    "import pandas as pd"
   ]
  },
  {
   "cell_type": "code",
   "execution_count": 1,
   "metadata": {},
   "outputs": [],
   "source": [
    "#%% Metrics functions\n",
    "\n",
    "def correlation(yobs, ysim):\n",
    "    \"\"\"\n",
    "    Pearson correlation\n",
    "    \"\"\"\n",
    "    data = pd.concat((yobs, ysim), axis=1).dropna(how=\"any\")\n",
    "    return data.corr().iloc[1, 0]\n",
    "\n",
    "\n",
    "def mean_absolute_error(yobs, ysim):\n",
    "    \"\"\"\n",
    "    Nash Sutcliffe Efficiency Criteria (NSE)\n",
    "    \"\"\"\n",
    "    data = pd.concat((yobs, ysim), axis=1).dropna(how=\"any\")\n",
    "    return (np.abs(data.iloc[:, 0] - data.iloc[:, 0]) / data.shape[0]).sum()\n",
    "\n",
    "\n",
    "def root_mean_square_error(yobs, ysim):\n",
    "    \"\"\"\n",
    "    Root Mean Square Error (RMSE)\n",
    "    \"\"\"\n",
    "    data = pd.concat((yobs, ysim), axis=1).dropna(how=\"any\")\n",
    "    return np.sum((data.iloc[:, 0] - data.iloc[:, 1]) ** 2.0 / data.shape[0]) ** 0.5\n",
    "\n",
    "\n",
    "def nash_sutcliffe_efficiency(yobs, ysim):\n",
    "    \"\"\"\n",
    "    Nash Sutcliffe Efficiency Criteria (NSE)\n",
    "    \"\"\"\n",
    "    data = pd.concat((yobs, ysim), axis=1).dropna(how=\"any\")\n",
    "    rm = data.iloc[:, 0].mean()\n",
    "    part1 = ((data.iloc[:, 1] - data.iloc[:, 0]) ** 2).sum()\n",
    "    part2 = ((data.iloc[:, 0] - rm) ** 2).sum()\n",
    "\n",
    "    return 1.0 - part1 / part2\n",
    "\n",
    "\n",
    "def kling_gupta_efficiency(yobs, ysim):\n",
    "    \"\"\"\n",
    "    kling Gupta Efficiency Criteria (KGE)\n",
    "    \"\"\"\n",
    "    data = pd.concat((yobs, ysim), axis=1).dropna(how=\"any\")\n",
    "    mean = data.mean().values\n",
    "    std = data.std().values\n",
    "    cc = data.corr().iloc[0, 1]\n",
    "    part1 = (cc - 1.0) ** 2.0\n",
    "    part2 = (std[1] / std[0] - 1.0) ** 2.0\n",
    "    part3 = (mean[1] / mean[0] - 1.0) ** 2.0\n",
    "    return 1 - (part1 + part2 + part3) ** 0.5\n",
    "\n",
    "\n",
    "def bias(yobs, ysim):\n",
    "    \"\"\"\n",
    "    Bias respect mean value\n",
    "\n",
    "    bias = 1.0 - ((mean_sim / mean_obs - 1.0) ** 2) ** 0.5\n",
    "    \"\"\"\n",
    "    data = pd.concat((yobs, ysim), axis=1).dropna(how=\"any\")\n",
    "    mean = data.mean().values\n",
    "    part = (mean[1] / mean[0] - 1.0) ** 2.0\n",
    "    return 1 - part ** 0.5\n",
    "\n"
   ]
  }
 ],
 "metadata": {
  "kernelspec": {
   "display_name": "Python 3",
   "language": "python",
   "name": "python3"
  },
  "language_info": {
   "codemirror_mode": {
    "name": "ipython",
    "version": 3
   },
   "file_extension": ".py",
   "mimetype": "text/x-python",
   "name": "python",
   "nbconvert_exporter": "python",
   "pygments_lexer": "ipython3",
   "version": "3.8.5"
  }
 },
 "nbformat": 4,
 "nbformat_minor": 4
}
